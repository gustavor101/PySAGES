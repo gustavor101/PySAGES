{
 "cells": [
  {
   "cell_type": "markdown",
   "id": "fb18f873",
   "metadata": {
    "lines_to_next_cell": 0
   },
   "source": [
    "<!-- trunk-ignore-all(markdownlint/MD001) -->\n",
    "<!-- trunk-ignore-all(markdownlint/MD024) -->"
   ]
  },
  {
   "cell_type": "markdown",
   "metadata": {
    "id": "p49wJ0IjLAVD"
   },
   "source": [
    "\n",
    "# Installation of the environment\n"
   ]
  },
  {
   "cell_type": "markdown",
   "metadata": {
    "id": "WM_9PpDwKuoA"
   },
   "source": [
    "\n",
    "First, we are setting up our environment, by installing HOOMD-blue and installing the dlext plugin for it. The first step is to update cmake to a version that is compatible with our installation process. In this case, we are using a newer version of CMake that is required by the HOOMD-dlext plugin.\n",
    "This is special to the underlying (older) Ubuntu system of this Colab (18.04) and should not be required for newer installations.\n"
   ]
  },
  {
   "cell_type": "markdown",
   "metadata": {
    "id": "Bj0t7S1rcPoT"
   },
   "source": [
    "\n",
    "# Update CMake\n"
   ]
  },
  {
   "cell_type": "code",
   "execution_count": null,
   "metadata": {
    "id": "anZqRa7pxGpK"
   },
   "outputs": [],
   "source": [
    "%%bash\n",
    "\n",
    "wget -O - https://apt.kitware.com/keys/kitware-archive-latest.asc 2> /dev/null | gpg --dearmor - | tee /usr/share/keyrings/kitware-archive-keyring.gpg > /dev/null\n",
    "echo 'deb [signed-by=/usr/share/keyrings/kitware-archive-keyring.gpg] https://apt.kitware.com/ubuntu/ bionic main' | tee /etc/apt/sources.list.d/kitware.list > /dev/null\n",
    "apt-get -qq update\n",
    "apt-get -qq remove cmake > /dev/null\n",
    "apt-get -qq install cmake > /dev/null\n",
    "\n",
    "# The following lines are specific to Colab installation environment\n",
    "[[ -f /usr/local/bin/cmake && ! -f /usr/local/bin/cmake-default ]] && mv /usr/local/bin/cmake /usr/local/bin/cmake-default\n",
    "ln -sf /usr/bin/cmake /usr/local/bin/cmake"
   ]
  },
  {
   "cell_type": "markdown",
   "metadata": {
    "id": "0opWLiz1shLz"
   },
   "source": [
    "\n",
    "##### \\_\\_\\_\n",
    "\n",
    "We set up a directory that we will use as an installation prefix (this can be different depending on where you want to install everything).\n"
   ]
  },
  {
   "cell_type": "code",
   "execution_count": null,
   "metadata": {
    "id": "YQplbeQbsvg_"
   },
   "outputs": [],
   "source": [
    "import os\n",
    "import sys\n",
    "\n",
    "ver = sys.version_info\n",
    "\n",
    "os.environ[\"PYSAGES_ENV\"] = \"/env/pysages\"\n",
    "os.environ[\"PREFIX\"] = \"/env/pysages/lib/python\" + str(ver.major) + \".\" + str(ver.minor) + \"/site-packages\""
   ]
  },
  {
   "cell_type": "code",
   "execution_count": null,
   "metadata": {
    "id": "f4YUpAAD_ECn"
   },
   "outputs": [],
   "source": [
    "!mkdir -p $PREFIX"
   ]
  },
  {
   "cell_type": "markdown",
   "metadata": {
    "id": "S6jbsO0ZxUyO"
   },
   "source": [
    "\n",
    "## HOOMD-blue\n",
    "\n",
    "With this dependency updated, we can install HOOMD-blue.\n",
    "The following cell clones and compiles HOOMD-blue manually.\n",
    "We also make use of disabling components of the HOOMD-blue installation to save some installation time.\n",
    "\n",
    "**This may take some time, be mindful of not inadvertently re-running the cell.**\n"
   ]
  },
  {
   "cell_type": "markdown",
   "metadata": {
    "id": "yreB95grry8d"
   },
   "source": [
    "\n",
    "# Build and install HOOMD-blue\n"
   ]
  },
  {
   "cell_type": "code",
   "execution_count": null,
   "metadata": {
    "id": "r_eiHnV5K6HI"
   },
   "outputs": [],
   "source": [
    "%%bash\n",
    "\n",
    "# Get HOOMD-blue source code\n",
    "rm -rf hoomd-blue\n",
    "git clone https://github.com/glotzerlab/hoomd-blue.git &>/dev/null\n",
    "cd hoomd-blue\n",
    "git checkout v2.9.7 &> /dev/null\n",
    "\n",
    "# Compile and install\n",
    "BUILD_PATH=/tmp/build/hoomd\n",
    "rm -rf $BUILD_PATH\n",
    "cmake -S . -B $BUILD_PATH \\\n",
    "    -DCMAKE_INSTALL_PREFIX=$PREFIX \\\n",
    "    -DENABLE_CUDA=ON \\\n",
    "    -DBUILD_CGCMM=OFF \\\n",
    "    -DBUILD_DEM=OFF \\\n",
    "    -DBUILD_DEPRECATED=OFF \\\n",
    "    -DBUILD_HPMC=OFF \\\n",
    "    -DBUILD_METAL=OFF \\\n",
    "    -DBUILD_MPCD=OFF \\\n",
    "    -DBUILD_TESTING=OFF &> /dev/null\n",
    "\n",
    "cmake --build $BUILD_PATH --target install -j8 &> /dev/null\n",
    "# Or alternately to the line above\n",
    "# cd /tmp/build/hoomd\n",
    "# make install -j8 &> /dev/null"
   ]
  },
  {
   "cell_type": "markdown",
   "metadata": {
    "id": "8ZxdRrN1rrtU"
   },
   "source": [
    "\n",
    "##### \\_\\_\\_\n",
    "\n",
    "After the successful installation of HOOMD-blue, we make the installation visible to the python system. We installed HOOMD-blue into a custom location that is not checked by python for software out of the box.\n",
    "In this Colab, this happens in two steps.\n",
    "\n",
    "First, we extend the environment variable `PYTHONPATH`. This helps newly started python environments to find the HOOMD-blue installation. This is important for the installation of the plugin later. In none-notebook environments, this is the only step necessary.\n"
   ]
  },
  {
   "cell_type": "code",
   "execution_count": null,
   "metadata": {
    "id": "MuDzJEpFzev3"
   },
   "outputs": [],
   "source": [
    "import os\n",
    "os.environ[\"PYTHONPATH\"] = os.environ[\"PREFIX\"] + \":\" + os.environ[\"PYTHONPATH\"]"
   ]
  },
  {
   "cell_type": "markdown",
   "metadata": {
    "id": "fQkzEJWgzhCp"
   },
   "source": [
    "\n",
    "##### \\_\\_\\_\n",
    "\n",
    "Because the notebook environment has already a running python we need to let this one know about the new package location. We achieve this by appending the `sys.path` with the location of our package.\n"
   ]
  },
  {
   "cell_type": "code",
   "execution_count": null,
   "metadata": {
    "id": "he413SCN-qKb"
   },
   "outputs": [],
   "source": [
    "import os\n",
    "import sys\n",
    "sys.path.append(os.environ[\"PREFIX\"])"
   ]
  },
  {
   "cell_type": "markdown",
   "metadata": {
    "id": "jtPHo0j1aG5p"
   },
   "source": [
    "\n",
    "## HOOMD-dlext plugin\n",
    "\n",
    "Now we can install the `dlext` plugin for HOOMD-blue. So we clone the hoomd-dlext repository and install the package via `cmake` as well.\n",
    "This cell is significantly faster than the HOOMD-blue installation.\n"
   ]
  },
  {
   "cell_type": "markdown",
   "metadata": {
    "id": "13FChNadwLUn"
   },
   "source": [
    "\n",
    "##### Build and install HOOMD-dlext plugin\n"
   ]
  },
  {
   "cell_type": "code",
   "execution_count": null,
   "metadata": {
    "id": "-imFRwdKfDvq"
   },
   "outputs": [],
   "source": [
    "%%bash\n",
    "\n",
    "# Get the plugin\n",
    "rm -rf hoomd-dlext\n",
    "git clone https://github.com/SSAGESLabs/hoomd-dlext.git &> /dev/null\n",
    "cd hoomd-dlext\n",
    "\n",
    "# Build and install\n",
    "BUILD_PATH=/tmp/build/hoomd-dlext\n",
    "rm -rf $BUILD_PATH\n",
    "cmake -S . -B $BUILD_PATH &> /dev/null\n",
    "cmake --build $BUILD_PATH --target install > /dev/null"
   ]
  },
  {
   "cell_type": "markdown",
   "metadata": {
    "id": "WVi8yFoDq--b"
   },
   "source": [
    "\n",
    "##### \\_\\_\\_\n",
    "\n",
    "This concludes the installation of the HOOMD-blue and its Plugin for PySAGES. We quickly test the installation and, if successful, we proceed to also build and install OpenMM.\n"
   ]
  },
  {
   "cell_type": "code",
   "execution_count": null,
   "metadata": {
    "id": "xJC1ebpqrKC8"
   },
   "outputs": [],
   "source": [
    "import hoomd\n",
    "import hoomd.dlext"
   ]
  },
  {
   "cell_type": "markdown",
   "metadata": {
    "id": "gOGvNMRL2x3p"
   },
   "source": [
    "\n",
    "## OpenMM\n",
    "\n",
    "Having previously set up the environment variables for the HOOMD-blue installation, we can now just simply install some required dependencies and build and install OpenMM.\n"
   ]
  },
  {
   "cell_type": "markdown",
   "metadata": {
    "id": "t8d3toizoQe9"
   },
   "source": [
    "\n",
    "##### \\_\\_\\_\n",
    "\n",
    "Installing dependencies will be different depending on your operating system and python environment.\n"
   ]
  },
  {
   "cell_type": "code",
   "execution_count": null,
   "metadata": {
    "id": "USDPtmzmBckY"
   },
   "outputs": [],
   "source": [
    "%%bash\n",
    "\n",
    "apt-get -qq install doxygen swig > /dev/null\n",
    "python -m pip install -q --upgrade pip setuptools wheel Cython &> /dev/null"
   ]
  },
  {
   "cell_type": "markdown",
   "metadata": {
    "id": "Uaco_PJqoZrq"
   },
   "source": [
    "\n",
    "##### Build and install OpenMM\n"
   ]
  },
  {
   "cell_type": "code",
   "execution_count": null,
   "metadata": {
    "id": "OLmZh8mF8QQx"
   },
   "outputs": [],
   "source": [
    "%%bash\n",
    "\n",
    "# Get OpenMM source code\n",
    "rm -rf openmm\n",
    "git clone https://github.com/openmm/openmm.git &> /dev/null\n",
    "cd openmm && git checkout 7.6.0 &> /dev/null\n",
    "\n",
    "# Compile and install\n",
    "BUILD_PATH=/tmp/build/openmm\n",
    "rm -rf $BUILD_PATH\n",
    "cmake -S . -B $BUILD_PATH \\\n",
    "    -DCMAKE_INSTALL_PREFIX=$PYSAGES_ENV \\\n",
    "    -DBUILD_TESTING=OFF \\\n",
    "    -Wno-dev &> /dev/null\n",
    "\n",
    "cmake --build $BUILD_PATH -j8 &> /dev/null\n",
    "cmake --install $BUILD_PATH &> /dev/null\n",
    "\n",
    "# Install python package\n",
    "export OPENMM_INCLUDE_PATH=$PYSAGES_ENV/include\n",
    "export OPENMM_LIB_PATH=$PYSAGES_ENV/lib\n",
    "cd $BUILD_PATH/python\n",
    "pip install --target $PREFIX . &> /dev/null"
   ]
  },
  {
   "cell_type": "markdown",
   "metadata": {
    "id": "zPZpzuaq9CIW"
   },
   "source": [
    "\n",
    "## OpenMM-dlext plugin\n",
    "\n",
    "Similarly we build and install the corresponding `openmm_dlext` plugin.\n"
   ]
  },
  {
   "cell_type": "markdown",
   "metadata": {
    "id": "N87ZPlxqZ-eS"
   },
   "source": [
    "\n",
    "##### Build and install openmm-dlext\n"
   ]
  },
  {
   "cell_type": "code",
   "execution_count": null,
   "metadata": {
    "id": "mCUYSTLp9M-C"
   },
   "outputs": [],
   "source": [
    "%%bash\n",
    "\n",
    "# Get the plugin\n",
    "rm -rf openmm-dlext\n",
    "git clone https://github.com/SSAGESLabs/openmm-dlext.git &> /dev/null\n",
    "cd openmm-dlext\n",
    "\n",
    "# Build and install\n",
    "BUILD_PATH=/tmp/build/openmm-dlext\n",
    "rm -rf $BUILD_PATH\n",
    "cmake -S . -B $BUILD_PATH -Wno-dev &> /dev/null\n",
    "cmake --build $BUILD_PATH --target install > /dev/null"
   ]
  },
  {
   "cell_type": "markdown",
   "metadata": {
    "id": "cm5xnNrM9P20"
   },
   "source": [
    "\n",
    "##### \\_\\_\\_\n",
    "\n",
    "Again, we test the installation and, if successful, we proceed to copy the environment to Google Drive to avoid building everything again in the future.\n"
   ]
  },
  {
   "cell_type": "code",
   "execution_count": null,
   "metadata": {
    "id": "5Ty-Jnm09gnu"
   },
   "outputs": [],
   "source": [
    "import openmm\n",
    "import openmm_dlext"
   ]
  },
  {
   "cell_type": "markdown",
   "metadata": {
    "id": "5qvCIYnS3StP"
   },
   "source": [
    "\n",
    "## Upload environment to Google Drive\n"
   ]
  },
  {
   "cell_type": "markdown",
   "metadata": {
    "id": "3a_zSXJatWUY"
   },
   "source": [
    "\n",
    "**This step can only be successfully executed by PySAGES maintainers.**\n",
    "\n",
    "These steps are not necessary to understand the setup of the environment. If you want to build your own environment, modify the lines such that it uploads to your own Google Drive.\n",
    "\n",
    "We upload the data to the shared Google Drive. First, we mount our Google Drive file system to a local directory.\n"
   ]
  },
  {
   "cell_type": "code",
   "execution_count": null,
   "metadata": {
    "colab": {
     "base_uri": "https://localhost:8080/"
    },
    "id": "yic9Joq5tlGh",
    "outputId": "6a516f55-ec92-4228-b0bb-f5f0fe9b43ec"
   },
   "outputs": [
    {
     "name": "stdout",
     "output_type": "stream",
     "text": [
      "Mounted at /content/mnt\n"
     ]
    }
   ],
   "source": [
    "from google.colab import drive\n",
    "drive.mount('/content/mnt')"
   ]
  },
  {
   "cell_type": "markdown",
   "metadata": {
    "id": "M09QOE_E3ukB"
   },
   "source": [
    "\n",
    "We then compress the environment into a zip file and copy it to a folder within Google Drive. Here we are choosing an existing Shared Drive, but if you were to do this you should choose a folder you have access to and write permissions.\n"
   ]
  },
  {
   "cell_type": "code",
   "execution_count": null,
   "metadata": {
    "colab": {
     "base_uri": "https://localhost:8080/"
    },
    "id": "QmXbqp9Pqp-a",
    "outputId": "046b3c5b-1980-43d4-bd6d-91d5d1b211a1"
   },
   "outputs": [
    {
     "name": "stdout",
     "output_type": "stream",
     "text": [
      "env: PYSAGES_SHARED_ENV=/content/mnt/Shareddrives/pysages-env\n"
     ]
    }
   ],
   "source": [
    "%env PYSAGES_SHARED_ENV=/content/mnt/Shareddrives/pysages-env"
   ]
  },
  {
   "cell_type": "code",
   "execution_count": null,
   "metadata": {
    "id": "ufo9WHoQqzuW"
   },
   "outputs": [],
   "source": [
    "%%bash\n",
    "\n",
    "cd $PYSAGES_ENV\n",
    "zip -qr pysages-env.zip .\n",
    "cp -f pysages-env.zip $PYSAGES_SHARED_ENV\n",
    "rm -f pysages-env.zip"
   ]
  }
 ],
 "metadata": {
  "accelerator": "GPU",
  "colab": {
   "collapsed_sections": [
    "Bj0t7S1rcPoT",
    "0opWLiz1shLz",
    "t8d3toizoQe9"
   ],
   "name": "Install_PySAGES_Environment.ipynb",
   "provenance": [],
   "toc_visible": true
  },
  "jupytext": {
   "formats": "ipynb,md",
   "main_language": "python"
  },
  "kernelspec": {
   "display_name": "Python 3",
   "name": "python3"
  },
  "language_info": {
   "name": "python"
  }
 },
 "nbformat": 4,
 "nbformat_minor": 0
}
